{
 "cells": [
  {
   "cell_type": "markdown",
   "metadata": {},
   "source": [
    "# Constants"
   ]
  },
  {
   "cell_type": "code",
   "execution_count": 282,
   "metadata": {},
   "outputs": [],
   "source": [
    "c = 137.036;  # speed of light in atomic units\n",
    "eV = 0.0367493;  # 1 eV in atomic units\n",
    "hbar = 6.582119569*10^(-16); # S.I. value in eV s \n",
    "nm = 100/5.29177210903; # 1nm in atomic units\n",
    "q = -1.0; # charge of the electron in atomic units\n",
    "ii = 0.0 + 1*im; # imaginary unit"
   ]
  },
  {
   "cell_type": "markdown",
   "metadata": {},
   "source": [
    "## Dielectric function  of the nanoparticle"
   ]
  },
  {
   "cell_type": "markdown",
   "metadata": {},
   "source": [
    "### Al-Drude"
   ]
  },
  {
   "cell_type": "code",
   "execution_count": 283,
   "metadata": {},
   "outputs": [],
   "source": [
    "plasmafrequency = 13.14232*eV; # plasma frequency of Drude model\n",
    "damping = 0.19713*eV; # damping of Drude model\n",
    "\n",
    "epsilon(w) = 1 - (( plasmafrequency * plasmafrequency ) / ( w * ( w + ii * damping ))); # dielectric function of the nanoparticle"
   ]
  },
  {
   "cell_type": "markdown",
   "metadata": {},
   "source": [
    "### Au Werner"
   ]
  },
  {
   "cell_type": "markdown",
   "metadata": {},
   "source": [
    "#### Werner parameters"
   ]
  },
  {
   "cell_type": "code",
   "execution_count": 284,
   "metadata": {},
   "outputs": [],
   "source": [
    "#omegaiev = [0.000, 4.0, 7.3, 12.8, 18.9, 19.9, 28.9, 38.7, 64.3]; # ωi values in eV from Werner\n",
    "#γiev = [0.2, 1.5, 3.3, 11.8, 71.0, 2.9, 3.9, 13.0, 51.9];# γi values in eV from Werner\n",
    "#fiev = [113.1, 44.6, 54.8, 184.9, 728.1, 65.7, 50.0, 74.7, 544.0];# fi values in eV from Werner"
   ]
  },
  {
   "cell_type": "markdown",
   "metadata": {},
   "source": [
    "### Bi Werner"
   ]
  },
  {
   "cell_type": "markdown",
   "metadata": {},
   "source": [
    "#### Bi Werner parameters"
   ]
  },
  {
   "cell_type": "code",
   "execution_count": 285,
   "metadata": {},
   "outputs": [],
   "source": [
    "#omegaiev = [0.000, 3.9, 6.6, 11.3, 24.1, 27.5, 40.2, 55.8, 84.2]; # ωi values in eV from Werner\n",
    "#γiev = [0.087, 1.8, 4.5, 6.2, 0.6, 1.9, 9.6, 21.7, 48.4];# γi values in eV from Werner\n",
    "#fiev = [108.4, 23.6, 50.2, 44.8, 6.6, 13.2, 99.3, 326.8, 373.1];# fi values in eV from Werner"
   ]
  },
  {
   "cell_type": "markdown",
   "metadata": {},
   "source": [
    "#### Werner dielectric function"
   ]
  },
  {
   "cell_type": "code",
   "execution_count": 286,
   "metadata": {},
   "outputs": [],
   "source": [
    "#omegai = eV*omegaiev;# ωi values in atomic units\n",
    "#γi = eV*γiev;# γi values in atomic units\n",
    "#fi = eV*eV*fiev;# fi values in atomic units\n",
    "\n",
    "#function epsilon(w) # w is the frequency\n",
    "#    ωi(w,i) = omegai[i]\n",
    "#    ϵ1(w) = 1.0 - sum( ((fi[i])*((w*w) - (ωi(w,i)*ωi(w,i))))/( ( ((w*w) - (ωi(w,i)*ωi(w,i)))*((w*w) - (ωi(w,i)*ωi(w,i))) ) + ( w*w*γi[i]*γi[i] ) ) for i in 1:length(omegai))\n",
    "#    ϵ2(w) = sum( (fi[i]*γi[i]*w)/( ( ((w*w) - (ωi(w,i)*ωi(w,i)))*((w*w) - (ωi(w,i)*ωi(w,i))) ) + ( w*w*γi[i]*γi[i] ) ) for i in 1:length(omegai))\n",
    "#    return ( ϵ1(w) ) + ii*( ϵ2(w) )\n",
    "#end;"
   ]
  },
  {
   "cell_type": "markdown",
   "metadata": {},
   "source": [
    "# Definitions of functions"
   ]
  },
  {
   "cell_type": "code",
   "execution_count": 287,
   "metadata": {
    "scrolled": true
   },
   "outputs": [],
   "source": [
    "betalorentz(v) = v/c; # reduced relativistic speed\n",
    "gammalorentz(v) = 1.0/sqrt(1.0 - ((v/c)^2)); # Lorentz factor\n",
    "kk(omega) = omega/c; # wave number in vacuum"
   ]
  },
  {
   "cell_type": "code",
   "execution_count": 288,
   "metadata": {},
   "outputs": [],
   "source": [
    "#using Pkg\n",
    "#Pkg.add(\"SpecialFunctions\")\n",
    "\n",
    "using SpecialFunctions\n",
    "\n",
    "# for:\n",
    "# beta(x,y)\n",
    "# besselk(n,z)"
   ]
  },
  {
   "cell_type": "markdown",
   "metadata": {},
   "source": [
    "The GNU Scientific Library (GSL) is a collection of routines for numerical computing. The routines have been written from scratch in C, and present a modern Applications Programming Interface (API) for C programmers, allowing wrappers to be written for very high level languages. The source code is distributed under the GNU General Public License."
   ]
  },
  {
   "cell_type": "code",
   "execution_count": 289,
   "metadata": {},
   "outputs": [],
   "source": [
    "#using Pkg\n",
    "#Pkg.add(\"GSL\")\n",
    "\n",
    "using GSL\n",
    "\n",
    "# for sf_legendre_Plm(l, m, cos(x)) with m > 0\n",
    "# sf_fact(n) the factorial\n",
    "# sf_doublefact(n) the double factorial"
   ]
  },
  {
   "cell_type": "code",
   "execution_count": 290,
   "metadata": {},
   "outputs": [],
   "source": [
    "#using Pkg\n",
    "#Pkg.add(\"FastGaussQuadrature\")\n",
    "\n",
    "using FastGaussQuadrature"
   ]
  },
  {
   "cell_type": "markdown",
   "metadata": {},
   "source": [
    "# Quantities $I^{\\ell,m}_{i_1,i_2}$"
   ]
  },
  {
   "cell_type": "markdown",
   "metadata": {},
   "source": [
    "First we need to define Double factorial $n!!$\n",
    "\n",
    "(I need to define it to include negative odd arguments). In particular we will need -1!! for $I^{\\ell,0}_{0,0}$."
   ]
  },
  {
   "cell_type": "code",
   "execution_count": 291,
   "metadata": {},
   "outputs": [],
   "source": [
    "function mydoublefactorial(n)\n",
    "    if n >= 0\n",
    "        sf_doublefact(n)\n",
    "    elseif n == -1\n",
    "        1.0\n",
    "    else\n",
    "       ((-1)^(-0.5*(n+1))) / mydoublefactorial(-n-2) \n",
    "    end\n",
    "end;"
   ]
  },
  {
   "cell_type": "markdown",
   "metadata": {},
   "source": [
    "I have tabulated all the necessary values of irecur(i1,i2,l,m) and defined a dictionary {key => value} called l100-Ii1i2lm-julia-dictionary.jl\n",
    "\n",
    "This will allow faster and more economic computations\n",
    "\n",
    "It is noteworthy that for l<29 the recursive definition is the fastest. After that, for l>=29, it is better to use the integral expression (coupling integrals) defined in 1999 G de Abajo's work. Pay attention to the (-1)^m phase of Condon and Shortley. "
   ]
  },
  {
   "cell_type": "code",
   "execution_count": 292,
   "metadata": {},
   "outputs": [],
   "source": [
    "include(\"l100-Ii1i2lm-julia-dictionary.jl\");"
   ]
  },
  {
   "cell_type": "markdown",
   "metadata": {},
   "source": [
    "# Quantities $\\alpha_{\\ell,m}$"
   ]
  },
  {
   "cell_type": "markdown",
   "metadata": {},
   "source": [
    "First I need to define my factorial function since the one in Combinatorics library overflows $\\alpha$ for $\\ell=11$, $m=11$. I extend the factorial in GSL by defining its non integer values with the gamma function."
   ]
  },
  {
   "cell_type": "code",
   "execution_count": 293,
   "metadata": {},
   "outputs": [],
   "source": [
    "function myfactorial(n)\n",
    "    if typeof(n) == Int64\n",
    "        sf_fact(n)\n",
    "    else\n",
    "        sf_gamma(n+1) \n",
    "    end\n",
    "end;"
   ]
  },
  {
   "cell_type": "markdown",
   "metadata": {},
   "source": [
    "OLD FACTORIAL\n",
    "\n",
    "function myfactorial(n)\n",
    "    if n >=0\n",
    "        if n < 21\n",
    "            factorial(n)\n",
    "        elseif typeof(n) == Int64\n",
    "            sf_fact(n)\n",
    "        else\n",
    "            sf_gamma(n+1)\n",
    "        end\n",
    "    else\n",
    "        sf_gamma(n+1)\n",
    "    end\n",
    "end;"
   ]
  },
  {
   "cell_type": "code",
   "execution_count": 294,
   "metadata": {},
   "outputs": [],
   "source": [
    "function alpha(l,m)\n",
    "    sqrt(((2*l+1)*myfactorial(l-m))/(4*pi*myfactorial(l+m)))\n",
    "end;"
   ]
  },
  {
   "cell_type": "markdown",
   "metadata": {},
   "source": [
    "# Quantities $A^{+}_{\\ell,m}$"
   ]
  },
  {
   "cell_type": "code",
   "execution_count": 295,
   "metadata": {},
   "outputs": [],
   "source": [
    "function AAplus(l,m,v)\n",
    "    if l < m #para que no tengan broncas las funciones $B_{l,m}$\n",
    "        0.0\n",
    "    elseif m >= 0\n",
    "        (betalorentz(v)^(-l-1))*sum(((ii^(l-j))*mydoublefactorial(2*l+1)*alpha(l,m)*irecur[(j,l-j,l,m)])/((gammalorentz(v)^j)*(2^j)*(myfactorial(l-j))*(myfactorial(0.5*(j-m)))*(myfactorial(0.5*(j+m)))) for j in m:l)\n",
    "    else\n",
    "        ((-1)^abs(m))*AAplus(l,abs(m),v)\n",
    "    end\n",
    "end;"
   ]
  },
  {
   "cell_type": "markdown",
   "metadata": {},
   "source": [
    "# Quantities $B_{\\ell,m}$"
   ]
  },
  {
   "cell_type": "code",
   "execution_count": 296,
   "metadata": {
    "scrolled": true
   },
   "outputs": [],
   "source": [
    "function BB(l,m,v)\n",
    "    (AAplus(l, m + 1, v)*sqrt((l + m + 1)*(l - m))) - (AAplus(l, m - 1, v)*sqrt((l - m + 1)*(l + m)))\n",
    "end;"
   ]
  },
  {
   "cell_type": "markdown",
   "metadata": {},
   "source": [
    "# Functions $\\psi^{\\text{E, ext}}_{\\ell,m}$ and $\\psi^{\\text{M, ext}}_{\\ell,m}$ "
   ]
  },
  {
   "cell_type": "code",
   "execution_count": 297,
   "metadata": {},
   "outputs": [],
   "source": [
    "psiEext(l,m,omega,v,b) = ((-2.0)*pi*(ii^(1.0-l))*kk(omega)*BB(l,m,v)*besselk(m,(omega*b)/(v*gammalorentz(v))))/(c*gammalorentz(v)*l*(l + 1));"
   ]
  },
  {
   "cell_type": "code",
   "execution_count": 298,
   "metadata": {},
   "outputs": [],
   "source": [
    "psiMext(l,m,omega,v,b) = ((-4.0)*pi*(ii^(1.0 - l))*kk(omega)*v*m*AAplus(l, m, v)*besselk(m,(omega*b)/(v*gammalorentz(v))))/(((c)^2)*l*(l + 1));"
   ]
  },
  {
   "cell_type": "markdown",
   "metadata": {},
   "source": [
    "# (Mie) Scattering coefficients.\n",
    "# Remember Scattering = i * Mie\n",
    "\n",
    "It is better to use the well defined Bessel functions os SpecialFUnctions library. All the numerical methods based on recurrences for Ricatti-Bessel functions are useful when one deals with dielectric functions in a small window of frequencies.\n",
    "\n",
    "I learned that upward recurrence is fast but very inestable. In contrast, downward recurrence is always stable but it is very VERY slow. Therefore I choose to use the special functions as defined by experts."
   ]
  },
  {
   "cell_type": "markdown",
   "metadata": {},
   "source": [
    "First we define the Ricatti-Bessel functions $\\psi_n(x)$ and $\\xi_n(x)$"
   ]
  },
  {
   "cell_type": "code",
   "execution_count": 299,
   "metadata": {},
   "outputs": [],
   "source": [
    "j(ν, x) = √(π/2x)*besselj(ν+1/2, x); #spherical bessel functions defined from SpecialFunctions besselj and bessely \n",
    "y(ν, x) = √(π/2x)*bessely(ν+1/2, x);\n",
    "h1(ν, x) = j(ν, x) + ii*y(ν, x); #spherical hankel function 1\n",
    "ψ(ν, x) = x*j(ν, x); # Ricatti-Bessel function \\psi\n",
    "ξ(ν, x) = x*h1(ν, x); # Ricatti-Bessel function \\xi"
   ]
  },
  {
   "cell_type": "markdown",
   "metadata": {},
   "source": [
    "Definition of Messiah's $h_\\ell ^{(+)}(x)$"
   ]
  },
  {
   "cell_type": "code",
   "execution_count": 300,
   "metadata": {},
   "outputs": [],
   "source": [
    "hplus(ν, x) = ii * j(ν, x) - y(ν, x);"
   ]
  },
  {
   "cell_type": "markdown",
   "metadata": {},
   "source": [
    "Now we define the ratio function $r_n(mx)$ defined on Hong Du paper \"Mie-scattering calculation\" in Applied Optics from April 2004, DOI: 10.1364/AO.43.001951 "
   ]
  },
  {
   "cell_type": "code",
   "execution_count": 301,
   "metadata": {},
   "outputs": [],
   "source": [
    "r(n,x) = ψ(n-1, x)/ψ(n, x);"
   ]
  },
  {
   "cell_type": "markdown",
   "metadata": {},
   "source": [
    "# Mie coefficients $a_n$ and $b_n$ as defined in Hong Du's paper"
   ]
  },
  {
   "cell_type": "code",
   "execution_count": 302,
   "metadata": {},
   "outputs": [],
   "source": [
    "function miea(n,w,R) # w is omega and R is the radius\n",
    "    m(w) = sqrt(epsilon(w))\n",
    "    x(w,R) = (R*w)/c\n",
    "    factor(n,w,R) = (r(n,m(w)*x(w,R))/m(w)) + (n*(1.0 - (1.0/epsilon(w)))/x(w,R))\n",
    "    numerator(n,w,R) = (factor(n,w,R) * ψ(n, x(w,R))) - ψ(n-1, x(w,R))\n",
    "    denominator(n,w,R) = (factor(n,w,R) * ξ(n, x(w,R))) - ξ(n-1, x(w,R))\n",
    "    return (numerator(n,w,R))/(denominator(n,w,R))\n",
    "end;\n",
    "\n",
    "function mieb(n,w,R) # w is omega and R is the radius\n",
    "    m(w) = sqrt(epsilon(w))\n",
    "    x(w,R) = (R*w)/c\n",
    "    numerator(n,w,R) = (r(n,m(w)*x(w,R))*m(w)*ψ(n, x(w,R))) - ψ(n-1, x(w,R))\n",
    "    denominator(n,w,R) = (r(n,m(w)*x(w,R))*m(w)*ξ(n, x(w,R))) - ξ(n-1, x(w,R))\n",
    "    return (numerator(n,w,R))/(denominator(n,w,R))\n",
    "end;"
   ]
  },
  {
   "cell_type": "markdown",
   "metadata": {},
   "source": [
    "Scattering coefficients $t^E_\\ell$ and $t^M_\\ell$"
   ]
  },
  {
   "cell_type": "code",
   "execution_count": 303,
   "metadata": {},
   "outputs": [],
   "source": [
    "tE(l,w,R) = ii * miea(l,w,R);\n",
    "tM(l,w,R) = ii * mieb(l,w,R);"
   ]
  },
  {
   "cell_type": "markdown",
   "metadata": {},
   "source": [
    "# Quantities $C^M$ and $D^E$ (Scattered Fields)"
   ]
  },
  {
   "cell_type": "code",
   "execution_count": 304,
   "metadata": {},
   "outputs": [],
   "source": [
    "CM(l,m,w,v,b,R) = (ii^l)*alpha(l,m)*tM(l,w,R)*psiMext(l,m,w,v,b); # R is NP radius\n",
    "DE(l,m,w,v,b,R) = (ii^l)*alpha(l,m)*tE(l,w,R)*psiEext(l,m,w,v,b);"
   ]
  },
  {
   "cell_type": "markdown",
   "metadata": {},
   "source": [
    "# Calculation of scattered electromagnetic fields"
   ]
  },
  {
   "cell_type": "markdown",
   "metadata": {},
   "source": [
    "Legendre Associated function $P_\\ell^m(\\cos(\\theta))$ from GSL library. I picked the one that agrees with the definition of Wolfram Mathematica. I completed the function to include negative values of $m$."
   ]
  },
  {
   "cell_type": "code",
   "execution_count": 305,
   "metadata": {},
   "outputs": [],
   "source": [
    "function P(l,m,x)\n",
    "    if m >= 0\n",
    "        sf_legendre_Plm(l, m, cos(x))\n",
    "    else\n",
    "        n = -m\n",
    "        (((-1) ^ n) * P(l,n,x) * myfactorial(l - n)) / myfactorial(l + n)\n",
    "    end\n",
    "end;"
   ]
  },
  {
   "cell_type": "markdown",
   "metadata": {},
   "source": [
    "$\\ell$-th contributions"
   ]
  },
  {
   "cell_type": "code",
   "execution_count": 306,
   "metadata": {},
   "outputs": [],
   "source": [
    "lEscatspherr(l,v,b,R,w,r,θ,ϕ) = sum( (exp(ii*m*ϕ)*DE(l,m,w,v,b,R)*l*(l+1.0)*P(l,m,θ)*hplus(l,kk(w)*r))/(kk(w)*r) for m in -l:l);\n",
    "lEscatsphertheta(l,v,b,R,w,r,θ,ϕ) = sum( (-1.0)*exp(ii*m*ϕ) * ( (CM(l,m,w,v,b,R)*m*hplus(l,kk(w)*r)*P(l,m,θ)*csc(θ)) + (DE(l,m,w,v,b,R)*( ((l+1.0)*cot(θ)*P(l,m,θ)) - ((l-m+1.0)*P(l+1,m,θ)*csc(θ)) ) * ( (((l+1.0)*hplus(l,kk(w)*r))/(kk(w)*r)) - hplus(l+1,kk(w)*r)) )) for m in -l:l);\n",
    "lEscatspherphi(l,v,b,R,w,r,θ,ϕ) = sum( ii*exp(ii*m*ϕ) * ( (CM(l,m,w,v,b,R)*hplus(l,kk(w)*r) * ( ((l+1.0)*cot(θ)*P(l,m,θ)) - ((l-m+1.0)*csc(θ)*P(l+1,m,θ))) ) + ( DE(l,m,w,v,b,R)*m*csc(θ)*P(l,m,θ) * ( (((l+1.0)*hplus(l,kk(w)*r))/(kk(w)*r)) - hplus(l+1,kk(w)*r) ) ) )  for m in -l:l);"
   ]
  },
  {
   "cell_type": "code",
   "execution_count": 307,
   "metadata": {},
   "outputs": [],
   "source": [
    "lHscatspherr(l,v,b,R,w,r,θ,ϕ) = sum( (exp(ii*m*ϕ)*CM(l,m,w,v,b,R)*l*(l+1.0)*P(l,m,θ)*hplus(l,kk(w)*r))/(kk(w)*r) for m in -l:l);\n",
    "lHscatsphertheta(l,v,b,R,w,r,θ,ϕ) = sum( exp(ii*m*ϕ) * ( (DE(l,m,w,v,b,R)*m*hplus(l,kk(w)*r)*P(l,m,θ)*csc(θ)) - (CM(l,m,w,v,b,R)*( ((l+1.0)*cot(θ)*P(l,m,θ)) - ((l-m+1.0)*P(l+1,m,θ)*csc(θ)) ) * ( (((l+1.0)*hplus(l,kk(w)*r))/(kk(w)*r)) - hplus(l+1,kk(w)*r)) )) for m in -l:l);\n",
    "lHscatspherphi(l,v,b,R,w,r,θ,ϕ) = sum( ii*exp(ii*m*ϕ) * ( (-DE(l,m,w,v,b,R)*hplus(l,kk(w)*r) * ( ((l+1.0)*cot(θ)*P(l,m,θ)) - ((l-m+1.0)*csc(θ)*P(l+1,m,θ))) ) + ( CM(l,m,w,v,b,R)*m*csc(θ)*P(l,m,θ) * ( (((l+1.0)*hplus(l,kk(w)*r))/(kk(w)*r)) - hplus(l+1,kk(w)*r) ) ) )  for m in -l:l);"
   ]
  },
  {
   "cell_type": "markdown",
   "metadata": {},
   "source": [
    "# Scattered electromagnetic fields\n",
    "They compute up to $\\ell=20$"
   ]
  },
  {
   "cell_type": "code",
   "execution_count": 308,
   "metadata": {},
   "outputs": [],
   "source": [
    "Escatspherr(lmax,v,b,R,w,r,θ,ϕ) = sum( lEscatspherr(l,v,b,R,w,r,θ,ϕ) for l in 1:lmax);\n",
    "Escatsphertheta(lmax,v,b,R,w,r,θ,ϕ) = sum( lEscatsphertheta(l,v,b,R,w,r,θ,ϕ) for l in 1:lmax);\n",
    "Escatspherphi(lmax,v,b,R,w,r,θ,ϕ) = sum( lEscatspherphi(l,v,b,R,w,r,θ,ϕ) for l in 1:lmax);"
   ]
  },
  {
   "cell_type": "code",
   "execution_count": 309,
   "metadata": {},
   "outputs": [],
   "source": [
    "Hscatspherr(lmax,v,b,R,w,r,θ,ϕ) = sum( lHscatspherr(l,v,b,R,w,r,θ,ϕ) for l in 1:lmax);\n",
    "Hscatsphertheta(lmax,v,b,R,w,r,θ,ϕ) = sum( lHscatsphertheta(l,v,b,R,w,r,θ,ϕ) for l in 1:lmax);\n",
    "Hscatspherphi(lmax,v,b,R,w,r,θ,ϕ) = sum( lHscatspherphi(l,v,b,R,w,r,θ,ϕ) for l in 1:lmax);"
   ]
  },
  {
   "cell_type": "code",
   "execution_count": 310,
   "metadata": {},
   "outputs": [],
   "source": [
    "LyintegrandEbis(lmax,v,b,R,w,r,θ,ϕ) = sum( (sin(θ)*( (cos(ϕ)*real((lEscatsphertheta(l,v,b,R,w,r,θ,ϕ) * conj(Escatspherr(lmax,v,b,R,w,r,θ,ϕ)))+((Eextsphertheta(v,b,w,r,θ,ϕ)*conj(lEscatspherr(l,v,b,R,w,r,θ,ϕ))) + (lEscatsphertheta(l,v,b,R,w,r,θ,ϕ)*conj(Eextspherr(v,b,w,r,θ,ϕ)))))) - (cos(θ)*sin(ϕ)*real((lEscatspherphi(l,v,b,R,w,r,θ,ϕ) * conj(Escatspherr(lmax,v,b,R,w,r,θ,ϕ)))+((Eextspherphi(v,b,w,r,θ,ϕ)*conj(lEscatspherr(l,v,b,R,w,r,θ,ϕ))) + (lEscatspherphi(l,v,b,R,w,r,θ,ϕ)*conj(Eextspherr(v,b,w,r,θ,ϕ)))))) ) ) for l in 1:lmax);\n",
    "LyintegrandEbisref(lmax,v,b,R,w,r,θ,ϕ) = (sin(θ)*( (cos(ϕ)*real((Escatsphertheta(lmax,v,b,R,w,r,θ,ϕ) * conj(Escatspherr(lmax,v,b,R,w,r,θ,ϕ)))+((Eextsphertheta(v,b,w,r,θ,ϕ)*conj(Escatspherr(lmax,v,b,R,w,r,θ,ϕ))) + (Escatsphertheta(lmax,v,b,R,w,r,θ,ϕ)*conj(Eextspherr(v,b,w,r,θ,ϕ)))))) - (cos(θ)*sin(ϕ)*real((Escatspherphi(lmax,v,b,R,w,r,θ,ϕ) * conj(Escatspherr(lmax,v,b,R,w,r,θ,ϕ)))+((Eextspherphi(v,b,w,r,θ,ϕ)*conj(Escatspherr(lmax,v,b,R,w,r,θ,ϕ))) + (Escatspherphi(lmax,v,b,R,w,r,θ,ϕ)*conj(Eextspherr(v,b,w,r,θ,ϕ)))))) ) );\n",
    "LyintegrandEref(lmax,v,b,R,w,r,θ,ϕ) = sin(θ)*( (cos(ϕ)*real(ξscatθr(lmax,v,b,R,w,r,θ,ϕ)+ξmixθr(lmax,v,b,R,w,r,θ,ϕ))) - (cos(θ)*sin(ϕ)*real(ξscatϕr(lmax,v,b,R,w,r,θ,ϕ)+ξmixϕr(lmax,v,b,R,w,r,θ,ϕ))) );"
   ]
  },
  {
   "cell_type": "markdown",
   "metadata": {},
   "source": [
    "# Quantities $A^M$ and $B^E$ (External Fields)"
   ]
  },
  {
   "cell_type": "code",
   "execution_count": 311,
   "metadata": {},
   "outputs": [],
   "source": [
    "AM(l,m,w,v,b,R) = (ii^l)*alpha(l,m)*psiMext(l,m,w,v,b); # R is NP radius\n",
    "BE(l,m,w,v,b,R) = (ii^l)*alpha(l,m)*psiEext(l,m,w,v,b);"
   ]
  },
  {
   "cell_type": "markdown",
   "metadata": {},
   "source": [
    "# External Fields in the Cartesian Exact form"
   ]
  },
  {
   "cell_type": "code",
   "execution_count": 312,
   "metadata": {
    "scrolled": true
   },
   "outputs": [],
   "source": [
    "R(x,y,b) = sqrt( (y*y) + ((x-b)*(x-b)));"
   ]
  },
  {
   "cell_type": "code",
   "execution_count": 313,
   "metadata": {},
   "outputs": [],
   "source": [
    "Eextcartex(v,b,w,x,y,z) = (2*q*abs(w)*(x-b)*exp(ii*w*z/v)*besselk(1,(abs(w)*R(x,y,b))/(v*gammalorentz(v)))) / (R(x,y,b)*v*v*gammalorentz(v));\n",
    "Eextcartey(v,b,w,x,y,z) = (2*q*abs(w)*(y)*exp(ii*w*z/v)*besselk(1,(abs(w)*R(x,y,b))/(v*gammalorentz(v)))) / (R(x,y,b)*v*v*gammalorentz(v));\n",
    "Eextcartez(v,b,w,x,y,z) = (-ii*2*q*w*exp(ii*w*z/v)*besselk(0,(abs(w)*R(x,y,b))/(v*gammalorentz(v)))) / (v*v*gammalorentz(v)*gammalorentz(v));"
   ]
  },
  {
   "cell_type": "code",
   "execution_count": 314,
   "metadata": {},
   "outputs": [],
   "source": [
    "Hextcartex(v,b,w,x,y,z) = (-2*q*betalorentz(v)*abs(w)*(y)*exp(ii*w*z/v)*besselk(1,(abs(w)*R(x,y,b))/(v*gammalorentz(v)))) / (R(x,y,b)*v*v*gammalorentz(v));\n",
    "Hextcartey(v,b,w,x,y,z) = (2*q*betalorentz(v)*abs(w)*(x-b)*exp(ii*w*z/v)*besselk(1,(abs(w)*R(x,y,b))/(v*gammalorentz(v)))) / (R(x,y,b)*v*v*gammalorentz(v));\n",
    "Hextcartez(v,b,w,x,y,z) = 0.0;"
   ]
  },
  {
   "cell_type": "markdown",
   "metadata": {},
   "source": [
    "# External Fields in the Spherical Exact form (from cartesian)"
   ]
  },
  {
   "cell_type": "markdown",
   "metadata": {},
   "source": [
    "## Spherical to Cartesian coordinates transformation"
   ]
  },
  {
   "cell_type": "code",
   "execution_count": 315,
   "metadata": {},
   "outputs": [],
   "source": [
    "xxx(r,θ,ϕ) = r*sin(θ)*cos(ϕ);\n",
    "yyy(r,θ,ϕ) = r*sin(θ)*sin(ϕ);\n",
    "zzz(r,θ,ϕ) = r*cos(θ);"
   ]
  },
  {
   "cell_type": "markdown",
   "metadata": {},
   "source": [
    "## External Electric field in spherical exact form (from cartesian)"
   ]
  },
  {
   "cell_type": "code",
   "execution_count": 316,
   "metadata": {},
   "outputs": [],
   "source": [
    "Eextspherr(v,b,w,r,θ,ϕ) = (Eextcartex(v,b,w,xxx(r,θ,ϕ),yyy(r,θ,ϕ),zzz(r,θ,ϕ))*sin(θ)*cos(ϕ)) + (Eextcartey(v,b,w,xxx(r,θ,ϕ),yyy(r,θ,ϕ),zzz(r,θ,ϕ))*sin(θ)*sin(ϕ)) + (Eextcartez(v,b,w,xxx(r,θ,ϕ),yyy(r,θ,ϕ),zzz(r,θ,ϕ))*cos(θ));\n",
    "Eextsphertheta(v,b,w,r,θ,ϕ) = (Eextcartex(v,b,w,xxx(r,θ,ϕ),yyy(r,θ,ϕ),zzz(r,θ,ϕ))*cos(θ)*cos(ϕ)) + (Eextcartey(v,b,w,xxx(r,θ,ϕ),yyy(r,θ,ϕ),zzz(r,θ,ϕ))*cos(θ)*sin(ϕ)) - (Eextcartez(v,b,w,xxx(r,θ,ϕ),yyy(r,θ,ϕ),zzz(r,θ,ϕ))*sin(θ));\n",
    "Eextspherphi(v,b,w,r,θ,ϕ) = -(Eextcartex(v,b,w,xxx(r,θ,ϕ),yyy(r,θ,ϕ),zzz(r,θ,ϕ))*sin(ϕ)) + (Eextcartey(v,b,w,xxx(r,θ,ϕ),yyy(r,θ,ϕ),zzz(r,θ,ϕ))*cos(ϕ));"
   ]
  },
  {
   "cell_type": "markdown",
   "metadata": {},
   "source": [
    "## External Magnetic field in spherical exact form (from cartesian)"
   ]
  },
  {
   "cell_type": "code",
   "execution_count": 317,
   "metadata": {},
   "outputs": [],
   "source": [
    "Hextspherr(v,b,w,r,θ,ϕ) = (Hextcartex(v,b,w,xxx(r,θ,ϕ),yyy(r,θ,ϕ),zzz(r,θ,ϕ))*sin(θ)*cos(ϕ)) + (Hextcartey(v,b,w,xxx(r,θ,ϕ),yyy(r,θ,ϕ),zzz(r,θ,ϕ))*sin(θ)*sin(ϕ)) + (Hextcartez(v,b,w,xxx(r,θ,ϕ),yyy(r,θ,ϕ),zzz(r,θ,ϕ))*cos(θ));\n",
    "Hextsphertheta(v,b,w,r,θ,ϕ) = (Hextcartex(v,b,w,xxx(r,θ,ϕ),yyy(r,θ,ϕ),zzz(r,θ,ϕ))*cos(θ)*cos(ϕ)) + (Hextcartey(v,b,w,xxx(r,θ,ϕ),yyy(r,θ,ϕ),zzz(r,θ,ϕ))*cos(θ)*sin(ϕ)) - (Hextcartez(v,b,w,xxx(r,θ,ϕ),yyy(r,θ,ϕ),zzz(r,θ,ϕ))*sin(θ));\n",
    "Hextspherphi(v,b,w,r,θ,ϕ) = -(Hextcartex(v,b,w,xxx(r,θ,ϕ),yyy(r,θ,ϕ),zzz(r,θ,ϕ))*sin(ϕ)) + (Hextcartey(v,b,w,xxx(r,θ,ϕ),yyy(r,θ,ϕ),zzz(r,θ,ϕ))*cos(ϕ));"
   ]
  },
  {
   "cell_type": "markdown",
   "metadata": {},
   "source": [
    "# TENSORS\n",
    "\n",
    "For the angular momentum transfer only the $\\theta r$ and $\\phi r$ components are needed. However, I shal aso compute the $rr$ component because it is needed for the LINEAR Momentum transfer."
   ]
  },
  {
   "cell_type": "markdown",
   "metadata": {},
   "source": [
    "## Electric tensors"
   ]
  },
  {
   "cell_type": "markdown",
   "metadata": {},
   "source": [
    "### a) External (which do not contribute)"
   ]
  },
  {
   "cell_type": "markdown",
   "metadata": {},
   "source": [
    "    ξextθr(v,b,w,r,θ,ϕ) = Eextsphertheta(v,b,w,r,θ,ϕ) * conj(Eextspherr(v,b,w,r,θ,ϕ));\n",
    "    ξextϕr(v,b,w,r,θ,ϕ) = Eextspherphi(v,b,w,r,θ,ϕ) * conj(Eextspherr(v,b,w,r,θ,ϕ));\n",
    "    ξextrr(v,b,w,r,θ,ϕ) = 0.5*( (Eextspherr(v,b,w,r,θ,ϕ)*conj(Eextspherr(v,b,w,r,θ,ϕ))) - (Eextsphertheta(v,b,w,r,θ,ϕ)*conj(Eextsphertheta(v,b,w,r,θ,ϕ))) - (Eextspherphi(v,b,w,r,θ,ϕ)*conj(Eextspherphi(v,b,w,r,θ,ϕ))) );"
   ]
  },
  {
   "cell_type": "code",
   "execution_count": 318,
   "metadata": {},
   "outputs": [],
   "source": [
    "ξextθr(v,b,w,r,θ,ϕ) = 0.0;\n",
    "ξextϕr(v,b,w,r,θ,ϕ) = 0.0;\n",
    "ξextrr(v,b,w,r,θ,ϕ) = 0.0;"
   ]
  },
  {
   "cell_type": "markdown",
   "metadata": {},
   "source": [
    "### b) Scattered"
   ]
  },
  {
   "cell_type": "code",
   "execution_count": 319,
   "metadata": {},
   "outputs": [],
   "source": [
    "ξscatθr(lmax,v,b,R,w,r,θ,ϕ) = Escatsphertheta(lmax,v,b,R,w,r,θ,ϕ) * conj(Escatspherr(lmax,v,b,R,w,r,θ,ϕ));\n",
    "ξscatϕr(lmax,v,b,R,w,r,θ,ϕ) = Escatspherphi(lmax,v,b,R,w,r,θ,ϕ) * conj(Escatspherr(lmax,v,b,R,w,r,θ,ϕ));\n",
    "ξscatrr(lmax,v,b,R,w,r,θ,ϕ) = 0.5*( (Escatspherr(lmax,v,b,R,w,r,θ,ϕ)*conj(Escatspherr(lmax,v,b,R,w,r,θ,ϕ))) - (Escatsphertheta(lmax,v,b,R,w,r,θ,ϕ)*conj(Escatsphertheta(lmax,v,b,R,w,r,θ,ϕ))) - (Escatspherphi(lmax,v,b,R,w,r,θ,ϕ)*conj(Escatspherphi(lmax,v,b,R,w,r,θ,ϕ))) );"
   ]
  },
  {
   "cell_type": "markdown",
   "metadata": {},
   "source": [
    "### c) Mixed"
   ]
  },
  {
   "cell_type": "code",
   "execution_count": 320,
   "metadata": {
    "scrolled": true
   },
   "outputs": [],
   "source": [
    "ξmixθr(lmax,v,b,R,w,r,θ,ϕ) = (Eextsphertheta(v,b,w,r,θ,ϕ)*conj(Escatspherr(lmax,v,b,R,w,r,θ,ϕ))) + (Escatsphertheta(lmax,v,b,R,w,r,θ,ϕ)*conj(Eextspherr(v,b,w,r,θ,ϕ)));\n",
    "ξmixϕr(lmax,v,b,R,w,r,θ,ϕ) = (Eextspherphi(v,b,w,r,θ,ϕ)*conj(Escatspherr(lmax,v,b,R,w,r,θ,ϕ))) + (Escatspherphi(lmax,v,b,R,w,r,θ,ϕ)*conj(Eextspherr(v,b,w,r,θ,ϕ)));\n",
    "ξmixrr(lmax,v,b,R,w,r,θ,ϕ) = 0.5*( ((Eextspherr(v,b,w,r,θ,ϕ)*conj(Escatspherr(lmax,v,b,R,w,r,θ,ϕ)))+(Escatspherr(lmax,v,b,R,w,r,θ,ϕ)*conj(Eextspherr(v,b,w,r,θ,ϕ)))) - ((Eextsphertheta(v,b,w,r,θ,ϕ)*conj(Escatsphertheta(lmax,v,b,R,w,r,θ,ϕ)))+(Escatsphertheta(lmax,v,b,R,w,r,θ,ϕ)*conj(Eextsphertheta(v,b,w,r,θ,ϕ)))) - ((Eextspherphi(v,b,w,r,θ,ϕ)*conj(Escatspherphi(lmax,v,b,R,w,r,θ,ϕ)))+(Escatspherphi(lmax,v,b,R,w,r,θ,ϕ)*conj(Eextspherphi(v,b,w,r,θ,ϕ)))) );"
   ]
  },
  {
   "cell_type": "markdown",
   "metadata": {},
   "source": [
    "## Magnetic tensors"
   ]
  },
  {
   "cell_type": "markdown",
   "metadata": {},
   "source": [
    "### a) External (which do not contribute)"
   ]
  },
  {
   "cell_type": "markdown",
   "metadata": {},
   "source": [
    "    μextθr(v,b,w,r,θ,ϕ) = Hextsphertheta(v,b,w,r,θ,ϕ) * conj(Hextspherr(v,b,w,r,θ,ϕ));\n",
    "    μextϕr(v,b,w,r,θ,ϕ) = Hextspherphi(v,b,w,r,θ,ϕ) * conj(Hextspherr(v,b,w,r,θ,ϕ));\n",
    "    μextrr(v,b,w,r,θ,ϕ) = 0.5*( (Hextspherr(v,b,w,r,θ,ϕ)*conj(Hextspherr(v,b,w,r,θ,ϕ))) - (Hextsphertheta(v,b,w,r,θ,ϕ)*conj(Hextsphertheta(v,b,w,r,θ,ϕ))) - (Hextspherphi(v,b,w,r,θ,ϕ)*conj(Hextspherphi(v,b,w,r,θ,ϕ))) );"
   ]
  },
  {
   "cell_type": "code",
   "execution_count": 321,
   "metadata": {},
   "outputs": [],
   "source": [
    "μextθr(v,b,w,r,θ,ϕ) = 0.0;\n",
    "μextϕr(v,b,w,r,θ,ϕ) = 0.0;\n",
    "μextrr(v,b,w,r,θ,ϕ) = 0.0;"
   ]
  },
  {
   "cell_type": "markdown",
   "metadata": {},
   "source": [
    "### b) Scattered"
   ]
  },
  {
   "cell_type": "code",
   "execution_count": 322,
   "metadata": {},
   "outputs": [],
   "source": [
    "μscatθr(lmax,v,b,R,w,r,θ,ϕ) = Hscatsphertheta(lmax,v,b,R,w,r,θ,ϕ) * conj(Hscatspherr(lmax,v,b,R,w,r,θ,ϕ));\n",
    "μscatϕr(lmax,v,b,R,w,r,θ,ϕ) = Hscatspherphi(lmax,v,b,R,w,r,θ,ϕ) * conj(Hscatspherr(lmax,v,b,R,w,r,θ,ϕ));\n",
    "μscatrr(lmax,v,b,R,w,r,θ,ϕ) = 0.5*( (Hscatspherr(lmax,v,b,R,w,r,θ,ϕ)*conj(Hscatspherr(lmax,v,b,R,w,r,θ,ϕ))) - (Hscatsphertheta(lmax,v,b,R,w,r,θ,ϕ)*conj(Hscatsphertheta(lmax,v,b,R,w,r,θ,ϕ))) - (Hscatspherphi(lmax,v,b,R,w,r,θ,ϕ)*conj(Hscatspherphi(lmax,v,b,R,w,r,θ,ϕ))) );"
   ]
  },
  {
   "cell_type": "markdown",
   "metadata": {},
   "source": [
    "### c) Mixed"
   ]
  },
  {
   "cell_type": "code",
   "execution_count": 323,
   "metadata": {},
   "outputs": [],
   "source": [
    "μmixθr(lmax,v,b,R,w,r,θ,ϕ) = (Hextsphertheta(v,b,w,r,θ,ϕ)*conj(Hscatspherr(lmax,v,b,R,w,r,θ,ϕ))) + (Hscatsphertheta(lmax,v,b,R,w,r,θ,ϕ)*conj(Hextspherr(v,b,w,r,θ,ϕ)));\n",
    "μmixϕr(lmax,v,b,R,w,r,θ,ϕ) = (Hextspherphi(v,b,w,r,θ,ϕ)*conj(Hscatspherr(lmax,v,b,R,w,r,θ,ϕ))) + (Hscatspherphi(lmax,v,b,R,w,r,θ,ϕ)*conj(Hextspherr(v,b,w,r,θ,ϕ)));\n",
    "μmixrr(lmax,v,b,R,w,r,θ,ϕ) = 0.5*( ((Hextspherr(v,b,w,r,θ,ϕ)*conj(Hscatspherr(lmax,v,b,R,w,r,θ,ϕ)))+(Hscatspherr(lmax,v,b,R,w,r,θ,ϕ)*conj(Hextspherr(v,b,w,r,θ,ϕ)))) - ((Hextsphertheta(v,b,w,r,θ,ϕ)*conj(Hscatsphertheta(lmax,v,b,R,w,r,θ,ϕ)))+(Hscatsphertheta(lmax,v,b,R,w,r,θ,ϕ)*conj(Hextsphertheta(v,b,w,r,θ,ϕ)))) - ((Hextspherphi(v,b,w,r,θ,ϕ)*conj(Hscatspherphi(lmax,v,b,R,w,r,θ,ϕ)))+(Hscatspherphi(lmax,v,b,R,w,r,θ,ϕ)*conj(Hextspherphi(v,b,w,r,θ,ϕ)))) );"
   ]
  },
  {
   "cell_type": "markdown",
   "metadata": {},
   "source": [
    "## Electric $D^E$ tensors"
   ]
  },
  {
   "cell_type": "code",
   "execution_count": 324,
   "metadata": {},
   "outputs": [],
   "source": [
    "DθrE(lmax,v,b,R,w,r,θ,ϕ) = real(ξextθr(v,b,w,r,θ,ϕ)+ξscatθr(lmax,v,b,R,w,r,θ,ϕ)+ξmixθr(lmax,v,b,R,w,r,θ,ϕ));\n",
    "DϕrE(lmax,v,b,R,w,r,θ,ϕ) = real(ξextϕr(v,b,w,r,θ,ϕ)+ξscatϕr(lmax,v,b,R,w,r,θ,ϕ)+ξmixϕr(lmax,v,b,R,w,r,θ,ϕ));\n",
    "DrrE(lmax,v,b,R,w,r,θ,ϕ) = real(ξextrr(v,b,w,r,θ,ϕ)+ξscatrr(lmax,v,b,R,w,r,θ,ϕ)+ξmixrr(lmax,v,b,R,w,r,θ,ϕ));"
   ]
  },
  {
   "cell_type": "markdown",
   "metadata": {},
   "source": [
    "## Magnetic $D^M$ tensors"
   ]
  },
  {
   "cell_type": "code",
   "execution_count": 325,
   "metadata": {},
   "outputs": [],
   "source": [
    "DθrM(lmax,v,b,R,w,r,θ,ϕ) = real(μextθr(v,b,w,r,θ,ϕ)+μscatθr(lmax,v,b,R,w,r,θ,ϕ)+μmixθr(lmax,v,b,R,w,r,θ,ϕ));\n",
    "DϕrM(lmax,v,b,R,w,r,θ,ϕ) = real(μextϕr(v,b,w,r,θ,ϕ)+μscatϕr(lmax,v,b,R,w,r,θ,ϕ)+μmixϕr(lmax,v,b,R,w,r,θ,ϕ));\n",
    "DrrM(lmax,v,b,R,w,r,θ,ϕ) = real(μextrr(v,b,w,r,θ,ϕ)+μscatrr(lmax,v,b,R,w,r,θ,ϕ)+μmixrr(lmax,v,b,R,w,r,θ,ϕ));"
   ]
  },
  {
   "cell_type": "markdown",
   "metadata": {},
   "source": [
    "## Electromagnetic $D$ tensors (independent) (NOT as a sum of electric and magnetic contributions)"
   ]
  },
  {
   "cell_type": "code",
   "execution_count": 326,
   "metadata": {},
   "outputs": [],
   "source": [
    "Dθr(lmax,v,b,R,w,r,θ,ϕ) = real(ξextθr(v,b,w,r,θ,ϕ)+ξscatθr(lmax,v,b,R,w,r,θ,ϕ)+ξmixθr(lmax,v,b,R,w,r,θ,ϕ)) + real(μextθr(v,b,w,r,θ,ϕ)+μscatθr(lmax,v,b,R,w,r,θ,ϕ)+μmixθr(lmax,v,b,R,w,r,θ,ϕ));\n",
    "Dϕr(lmax,v,b,R,w,r,θ,ϕ) = real(ξextϕr(v,b,w,r,θ,ϕ)+ξscatϕr(lmax,v,b,R,w,r,θ,ϕ)+ξmixϕr(lmax,v,b,R,w,r,θ,ϕ)) + real(μextϕr(v,b,w,r,θ,ϕ)+μscatϕr(lmax,v,b,R,w,r,θ,ϕ)+μmixϕr(lmax,v,b,R,w,r,θ,ϕ));\n",
    "Drr(lmax,v,b,R,w,r,θ,ϕ) = real(ξextrr(v,b,w,r,θ,ϕ)+ξscatrr(lmax,v,b,R,w,r,θ,ϕ)+ξmixrr(lmax,v,b,R,w,r,θ,ϕ)) + real(μextrr(v,b,w,r,θ,ϕ)+μscatrr(lmax,v,b,R,w,r,θ,ϕ)+μmixrr(lmax,v,b,R,w,r,θ,ϕ));"
   ]
  },
  {
   "cell_type": "markdown",
   "metadata": {},
   "source": [
    "# Integrands for the surface integral [to obtain the spectral contributions  to the ANGULAR Momentum transfer$\\mathcal{L}(\\omega)$]"
   ]
  },
  {
   "cell_type": "markdown",
   "metadata": {},
   "source": [
    "### TOTALS (independent) (NOT as a sum of electric and magnetic contributions)"
   ]
  },
  {
   "cell_type": "code",
   "execution_count": 327,
   "metadata": {},
   "outputs": [],
   "source": [
    "Lxintegrand(lmax,v,b,R,w,r,θ,ϕ) = -sin(θ)*( (sin(ϕ)*Dθr(lmax,v,b,R,w,r,θ,ϕ)) + (cos(θ)*cos(ϕ)*Dϕr(lmax,v,b,R,w,r,θ,ϕ)) );\n",
    "Lyintegrand(lmax,v,b,R,w,r,θ,ϕ) = sin(θ)*( (cos(ϕ)*Dθr(lmax,v,b,R,w,r,θ,ϕ)) - (cos(θ)*sin(ϕ)*Dϕr(lmax,v,b,R,w,r,θ,ϕ)) );\n",
    "Lzintegrand(lmax,v,b,R,w,r,θ,ϕ) = sin(θ)*sin(θ)*Dϕr(lmax,v,b,R,w,r,θ,ϕ);"
   ]
  },
  {
   "cell_type": "markdown",
   "metadata": {},
   "source": [
    "### ELECTRIC"
   ]
  },
  {
   "cell_type": "code",
   "execution_count": 328,
   "metadata": {},
   "outputs": [],
   "source": [
    "LxintegrandE(lmax,v,b,R,w,r,θ,ϕ) = -sin(θ)*( (sin(ϕ)*DθrE(lmax,v,b,R,w,r,θ,ϕ)) + (cos(θ)*cos(ϕ)*DϕrE(lmax,v,b,R,w,r,θ,ϕ)) );\n",
    "LyintegrandE(lmax,v,b,R,w,r,θ,ϕ) = sin(θ)*( (cos(ϕ)*DθrE(lmax,v,b,R,w,r,θ,ϕ)) - (cos(θ)*sin(ϕ)*DϕrE(lmax,v,b,R,w,r,θ,ϕ)) );\n",
    "LzintegrandE(lmax,v,b,R,w,r,θ,ϕ) = sin(θ)*sin(θ)*DϕrE(lmax,v,b,R,w,r,θ,ϕ);"
   ]
  },
  {
   "cell_type": "markdown",
   "metadata": {},
   "source": [
    "## electric for convergence test"
   ]
  },
  {
   "cell_type": "code",
   "execution_count": 329,
   "metadata": {},
   "outputs": [],
   "source": [
    "LyintegrandEtest(lmax,l,v,b,R,w,r,θ,ϕ) = (sin(θ)*( (cos(ϕ)*real((lEscatsphertheta(l,v,b,R,w,r,θ,ϕ) * conj(Escatspherr(lmax,v,b,R,w,r,θ,ϕ)))+((Eextsphertheta(v,b,w,r,θ,ϕ)*conj(lEscatspherr(l,v,b,R,w,r,θ,ϕ))) + (lEscatsphertheta(l,v,b,R,w,r,θ,ϕ)*conj(Eextspherr(v,b,w,r,θ,ϕ)))))) - (cos(θ)*sin(ϕ)*real((lEscatspherphi(l,v,b,R,w,r,θ,ϕ) * conj(Escatspherr(lmax,v,b,R,w,r,θ,ϕ)))+((Eextspherphi(v,b,w,r,θ,ϕ)*conj(lEscatspherr(l,v,b,R,w,r,θ,ϕ))) + (lEscatspherphi(l,v,b,R,w,r,θ,ϕ)*conj(Eextspherr(v,b,w,r,θ,ϕ)))))) ) );\n",
    "\n",
    "\n",
    "LyintegrandEbis(lmax,v,b,R,w,r,θ,ϕ) = sum( (sin(θ)*( (cos(ϕ)*real((lEscatsphertheta(l,v,b,R,w,r,θ,ϕ) * conj(Escatspherr(lmax,v,b,R,w,r,θ,ϕ)))+((Eextsphertheta(v,b,w,r,θ,ϕ)*conj(lEscatspherr(l,v,b,R,w,r,θ,ϕ))) + (lEscatsphertheta(l,v,b,R,w,r,θ,ϕ)*conj(Eextspherr(v,b,w,r,θ,ϕ)))))) - (cos(θ)*sin(ϕ)*real((lEscatspherphi(l,v,b,R,w,r,θ,ϕ) * conj(Escatspherr(lmax,v,b,R,w,r,θ,ϕ)))+((Eextspherphi(v,b,w,r,θ,ϕ)*conj(lEscatspherr(l,v,b,R,w,r,θ,ϕ))) + (lEscatspherphi(l,v,b,R,w,r,θ,ϕ)*conj(Eextspherr(v,b,w,r,θ,ϕ)))))) ) ) for l in 1:lmax);\n",
    "#LyintegrandEbisref(lmax,v,b,R,w,r,θ,ϕ) = (sin(θ)*( (cos(ϕ)*real((Escatsphertheta(lmax,v,b,R,w,r,θ,ϕ) * conj(Escatspherr(lmax,v,b,R,w,r,θ,ϕ)))+((Eextsphertheta(v,b,w,r,θ,ϕ)*conj(Escatspherr(lmax,v,b,R,w,r,θ,ϕ))) + (Escatsphertheta(lmax,v,b,R,w,r,θ,ϕ)*conj(Eextspherr(v,b,w,r,θ,ϕ)))))) - (cos(θ)*sin(ϕ)*real((Escatspherphi(lmax,v,b,R,w,r,θ,ϕ) * conj(Escatspherr(lmax,v,b,R,w,r,θ,ϕ)))+((Eextspherphi(v,b,w,r,θ,ϕ)*conj(Escatspherr(lmax,v,b,R,w,r,θ,ϕ))) + (Escatspherphi(lmax,v,b,R,w,r,θ,ϕ)*conj(Eextspherr(v,b,w,r,θ,ϕ)))))) ) );\n",
    "#LyintegrandEref(lmax,v,b,R,w,r,θ,ϕ) = sin(θ)*( (cos(ϕ)*real(ξscatθr(lmax,v,b,R,w,r,θ,ϕ)+ξmixθr(lmax,v,b,R,w,r,θ,ϕ))) - (cos(θ)*sin(ϕ)*real(ξscatϕr(lmax,v,b,R,w,r,θ,ϕ)+ξmixϕr(lmax,v,b,R,w,r,θ,ϕ))) );\n",
    "\n",
    "#LyintegrandEref(lmax,v,b,R,w,r,θ,ϕ) = sin(θ)*( (cos(ϕ)*real((lEscatsphertheta(l,v,b,R,w,r,θ,ϕ) * conj(Escatspherr(lmax,v,b,R,w,r,θ,ϕ)))+ξmixθr(lmax,v,b,R,w,r,θ,ϕ))) - (cos(θ)*sin(ϕ)*real((lEscatspherphi(lmax,v,b,R,w,r,θ,ϕ) * conj(Escatspherr(lmax,v,b,R,w,r,θ,ϕ)))+ξmixϕr(lmax,v,b,R,w,r,θ,ϕ))) );"
   ]
  },
  {
   "cell_type": "markdown",
   "metadata": {},
   "source": [
    "### MAGNETIC"
   ]
  },
  {
   "cell_type": "code",
   "execution_count": 331,
   "metadata": {},
   "outputs": [],
   "source": [
    "LxintegrandM(lmax,v,b,R,w,r,θ,ϕ) = -sin(θ)*( (sin(ϕ)*DθrM(lmax,v,b,R,w,r,θ,ϕ)) + (cos(θ)*cos(ϕ)*DϕrM(lmax,v,b,R,w,r,θ,ϕ)) );\n",
    "LyintegrandM(lmax,v,b,R,w,r,θ,ϕ) = sin(θ)*( (cos(ϕ)*DθrM(lmax,v,b,R,w,r,θ,ϕ)) - (cos(θ)*sin(ϕ)*DϕrM(lmax,v,b,R,w,r,θ,ϕ)) );\n",
    "LzintegrandM(lmax,v,b,R,w,r,θ,ϕ) = sin(θ)*sin(θ)*DϕrM(lmax,v,b,R,w,r,θ,ϕ);"
   ]
  },
  {
   "cell_type": "markdown",
   "metadata": {},
   "source": [
    "## magnetic for convergence test"
   ]
  },
  {
   "cell_type": "code",
   "execution_count": 332,
   "metadata": {},
   "outputs": [],
   "source": [
    "LyintegrandMtest(lmax,l,v,b,R,w,r,θ,ϕ) =  (sin(θ)*( (cos(ϕ)*real((lHscatsphertheta(l,v,b,R,w,r,θ,ϕ) * conj(Hscatspherr(lmax,v,b,R,w,r,θ,ϕ)))+((Hextsphertheta(v,b,w,r,θ,ϕ)*conj(lHscatspherr(l,v,b,R,w,r,θ,ϕ))) + (lHscatsphertheta(l,v,b,R,w,r,θ,ϕ)*conj(Hextspherr(v,b,w,r,θ,ϕ)))))) - (cos(θ)*sin(ϕ)*real((lHscatspherphi(l,v,b,R,w,r,θ,ϕ) * conj(Hscatspherr(lmax,v,b,R,w,r,θ,ϕ)))+((Hextspherphi(v,b,w,r,θ,ϕ)*conj(lHscatspherr(l,v,b,R,w,r,θ,ϕ))) + (lHscatspherphi(l,v,b,R,w,r,θ,ϕ)*conj(Hextspherr(v,b,w,r,θ,ϕ)))))) ) );\n",
    "\n",
    "\n",
    "LyintegrandMbis(lmax,v,b,R,w,r,θ,ϕ) = sum( (sin(θ)*( (cos(ϕ)*real((lHscatsphertheta(l,v,b,R,w,r,θ,ϕ) * conj(Hscatspherr(lmax,v,b,R,w,r,θ,ϕ)))+((Hextsphertheta(v,b,w,r,θ,ϕ)*conj(lHscatspherr(l,v,b,R,w,r,θ,ϕ))) + (lHscatsphertheta(l,v,b,R,w,r,θ,ϕ)*conj(Hextspherr(v,b,w,r,θ,ϕ)))))) - (cos(θ)*sin(ϕ)*real((lHscatspherphi(l,v,b,R,w,r,θ,ϕ) * conj(Hscatspherr(lmax,v,b,R,w,r,θ,ϕ)))+((Hextspherphi(v,b,w,r,θ,ϕ)*conj(lHscatspherr(l,v,b,R,w,r,θ,ϕ))) + (lHscatspherphi(l,v,b,R,w,r,θ,ϕ)*conj(Hextspherr(v,b,w,r,θ,ϕ)))))) ) ) for l in 1:lmax);\n",
    "#LyintegrandMbisref(lmax,v,b,R,w,r,θ,ϕ) = (sin(θ)*( (cos(ϕ)*real((Hscatsphertheta(lmax,v,b,R,w,r,θ,ϕ) * conj(Hscatspherr(lmax,v,b,R,w,r,θ,ϕ)))+((Hextsphertheta(v,b,w,r,θ,ϕ)*conj(Hscatspherr(lmax,v,b,R,w,r,θ,ϕ))) + (Hscatsphertheta(lmax,v,b,R,w,r,θ,ϕ)*conj(Hextspherr(v,b,w,r,θ,ϕ)))))) - (cos(θ)*sin(ϕ)*real((Hscatspherphi(lmax,v,b,R,w,r,θ,ϕ) * conj(Hscatspherr(lmax,v,b,R,w,r,θ,ϕ)))+((Hextspherphi(v,b,w,r,θ,ϕ)*conj(Hscatspherr(lmax,v,b,R,w,r,θ,ϕ))) + (Hscatspherphi(lmax,v,b,R,w,r,θ,ϕ)*conj(Hextspherr(v,b,w,r,θ,ϕ)))))) ) );\n",
    "#LyintegrandMref(lmax,v,b,R,w,r,θ,ϕ) = sin(θ)*( (cos(ϕ)*real(μscatθr(lmax,v,b,R,w,r,θ,ϕ)+μmixθr(lmax,v,b,R,w,r,θ,ϕ))) - (cos(θ)*sin(ϕ)*real(μscatϕr(lmax,v,b,R,w,r,θ,ϕ)+μmixϕr(lmax,v,b,R,w,r,θ,ϕ))) );"
   ]
  },
  {
   "cell_type": "markdown",
   "metadata": {},
   "source": [
    "### TOTALS (independent) (NOT as a sum of electric and magnetic contributions)"
   ]
  },
  {
   "cell_type": "code",
   "execution_count": 333,
   "metadata": {},
   "outputs": [],
   "source": [
    "Pxintegrand(lmax,v,b,R,w,r,θ,ϕ) = sin(θ)*( (cos(ϕ)*(sin(θ)*Drr(lmax,v,b,R,w,r,θ,ϕ) + cos(θ)*Dθr(lmax,v,b,R,w,r,θ,ϕ))) - (sin(ϕ)*Dϕr(lmax,v,b,R,w,r,θ,ϕ) )); \n",
    "Pyintegrand(lmax,v,b,R,w,r,θ,ϕ) = sin(θ)*( (sin(ϕ)*(sin(θ)*Drr(lmax,v,b,R,w,r,θ,ϕ) + cos(θ)*Dθr(lmax,v,b,R,w,r,θ,ϕ))) + (cos(ϕ)*Dϕr(lmax,v,b,R,w,r,θ,ϕ) )); \n",
    "Pzintegrand(lmax,v,b,R,w,r,θ,ϕ) = sin(θ)*(cos(θ)*Drr(lmax,v,b,R,w,r,θ,ϕ) - sin(θ)*Dθr(lmax,v,b,R,w,r,θ,ϕ)); "
   ]
  },
  {
   "cell_type": "markdown",
   "metadata": {},
   "source": [
    "### ELECTRIC"
   ]
  },
  {
   "cell_type": "code",
   "execution_count": 334,
   "metadata": {},
   "outputs": [],
   "source": [
    "PxintegrandE(lmax,v,b,R,w,r,θ,ϕ) = sin(θ)*( (cos(ϕ)*(sin(θ)*DrrE(lmax,v,b,R,w,r,θ,ϕ) + cos(θ)*DθrE(lmax,v,b,R,w,r,θ,ϕ))) - (sin(ϕ)*DϕrE(lmax,v,b,R,w,r,θ,ϕ) )); \n",
    "PyintegrandE(lmax,v,b,R,w,r,θ,ϕ) = sin(θ)*( (sin(ϕ)*(sin(θ)*DrrE(lmax,v,b,R,w,r,θ,ϕ) + cos(θ)*DθrE(lmax,v,b,R,w,r,θ,ϕ))) + (cos(ϕ)*DϕrE(lmax,v,b,R,w,r,θ,ϕ) )); \n",
    "PzintegrandE(lmax,v,b,R,w,r,θ,ϕ) = sin(θ)*(cos(θ)*DrrE(lmax,v,b,R,w,r,θ,ϕ) - sin(θ)*DθrE(lmax,v,b,R,w,r,θ,ϕ)); "
   ]
  },
  {
   "cell_type": "markdown",
   "metadata": {},
   "source": [
    "### MAGNETIC"
   ]
  },
  {
   "cell_type": "code",
   "execution_count": 335,
   "metadata": {},
   "outputs": [],
   "source": [
    "PxintegrandM(lmax,v,b,R,w,r,θ,ϕ) = sin(θ)*( (cos(ϕ)*(sin(θ)*DrrM(lmax,v,b,R,w,r,θ,ϕ) + cos(θ)*DθrM(lmax,v,b,R,w,r,θ,ϕ))) - (sin(ϕ)*DϕrM(lmax,v,b,R,w,r,θ,ϕ) )); \n",
    "PyintegrandM(lmax,v,b,R,w,r,θ,ϕ) = sin(θ)*( (sin(ϕ)*(sin(θ)*DrrM(lmax,v,b,R,w,r,θ,ϕ) + cos(θ)*DθrM(lmax,v,b,R,w,r,θ,ϕ))) + (cos(ϕ)*DϕrM(lmax,v,b,R,w,r,θ,ϕ) )); \n",
    "PzintegrandM(lmax,v,b,R,w,r,θ,ϕ) = sin(θ)*(cos(θ)*DrrM(lmax,v,b,R,w,r,θ,ϕ) - sin(θ)*DθrM(lmax,v,b,R,w,r,θ,ϕ)); "
   ]
  },
  {
   "cell_type": "markdown",
   "metadata": {},
   "source": [
    "# Spectral contributions $\\mathcal{L}(\\omega)$ and $\\mathcal{P}(\\omega)$ (surface integrals)"
   ]
  },
  {
   "cell_type": "markdown",
   "metadata": {},
   "source": [
    "# I found possible and better to compute multidimensional integrals using cubatures."
   ]
  },
  {
   "cell_type": "markdown",
   "metadata": {},
   "source": [
    "### Cuba is a suite to compute cubatures in the hypercube $[0,1]^n$. See :\n",
    "\n",
    "https://giordano.github.io/Cuba.jl/stable/#Usage-1\n",
    "\n",
    "https://github.com/giordano/Cuba.jl\n",
    "\n",
    "http://www.feynarts.de/cuba/\n",
    "\n"
   ]
  },
  {
   "cell_type": "markdown",
   "metadata": {},
   "source": [
    "In particular, in https://giordano.github.io/Cuba.jl/stable/#Usage-1 I found that it is possible to do all the integrals as:\n",
    "\n",
    "$$\\int_a^b f(x)dx = \\int_0^1 f(a+[b-a]y)(b-a)dy$$\n",
    "$$\\int_a^\\infty f(x)dx = \\int_0^1 f\\left(a+\\frac{y}{1-y}\\right)(b-a)\\frac{1}{(1-y)^2}dy,$$\n",
    "\n",
    "so that \n",
    "\n",
    "$$\\int_0^\\infty \\int_0^\\pi \\int_0^{2\\pi}   f(\\theta,\\phi,\\omega) d\\omega d\\phi d\\theta\n",
    "= \n",
    "2\\pi^2\n",
    "\\int_0^1\\int_0^1\\int_0^1 f\\left( \\pi y_\\theta, 2\\pi y_\\phi,\\frac{y_\\omega}{1-y_\\omega}\\right)\\left(\\frac{1}{1-y_\\omega}\\right)^2 dy_\\omega dy_\\phi dy_\\theta$$"
   ]
  },
  {
   "cell_type": "code",
   "execution_count": 336,
   "metadata": {},
   "outputs": [],
   "source": [
    "#using Pkg\n",
    "#Pkg.add(\"Cuba\")\n",
    "using Cuba;"
   ]
  },
  {
   "cell_type": "markdown",
   "metadata": {},
   "source": [
    "### rtol (type: Real, default: 1e-4), and atol (type: Real, default: 1e-12): the requested relative ($\\varepsilon_{\\text{rel}}$) and absolute ($\\varepsilon_{\\text{abs}}$) accuracies. The integrator tries to find an estimate $\\hat{I}$ for the integral $I$ which for every component $c$ fulfills $∣\\hat{I}_c−I_c∣\\leq \\max(\\varepsilon_{\\text{abs}}, \\varepsilon_{\\text{rel}}∣I_c∣)$.\n",
    "\n",
    "cuhre(integrand, ndim=2, ncomp=1[, keywords]) -> integral, error, probability, neval, fail, nregions\n",
    "\n",
    "Arguments\n",
    "\n",
    "The only mandatory argument of integrator functions is:\n",
    "\n",
    "    integrand (type: Function): the function to be integrated\n",
    "\n",
    "Optional positional arguments are:\n",
    "\n",
    "    ndim (type: Integer): the number of dimensions of the integratation domain. If omitted, defaults to 1 in vegas and suave, to 2 in divonne and cuhre. Note: ndim must be at least 2 with the latest two methods.\n",
    "    \n",
    "    ncomp (type: Integer): the number of components of the integrand. Default to 1 if omitted\n",
    "\n",
    "integrand should be a function integrand(x, f) taking two arguments:\n",
    "\n",
    "    the input vector x of length ndim\n",
    "    the output vector f of length ncomp, used to set the value of each component of the integrand at point x\n",
    "\n",
    "x and f are matrices with dimensions (ndim, nvec) and (ncomp, nvec), respectively, when nvec > 1. See the Vectorization section below for more information."
   ]
  },
  {
   "cell_type": "markdown",
   "metadata": {},
   "source": [
    "### rtol (type: Real, default: 1e-4), and atol (type: Real, default: 1e-12): the requested relative ($\\varepsilon_{\\text{rel}}$) and absolute ($\\varepsilon_{\\text{abs}}$) accuracies. The integrator tries to find an estimate $\\hat{I}$ for the integral $I$ which for every component $c$ fulfills $∣\\hat{I}_c−I_c∣\\leq \\max(\\varepsilon_{\\text{abs}}, \\varepsilon_{\\text{rel}}∣I_c∣)$.\n",
    "\n",
    "minevals (type: Real, default: 0): the minimum number of integrand evaluations required\n",
    "\n",
    "maxevals (type: Real, default: 1000000): the (approximate) maximum number of integrand evaluations allowed"
   ]
  },
  {
   "cell_type": "markdown",
   "metadata": {},
   "source": [
    "# Definition of the spectral contributions $\\mathcal{L}_x(\\omega)$, $\\mathcal{L}_x(\\omega)$ and $\\mathcal{L}_x(\\omega)$"
   ]
  },
  {
   "cell_type": "markdown",
   "metadata": {},
   "source": [
    "### TOTALS (independent) (NOT as a sum of electric and magnetic contributions)"
   ]
  },
  {
   "cell_type": "code",
   "execution_count": 337,
   "metadata": {},
   "outputs": [],
   "source": [
    "maximumevaluations = 40000000;"
   ]
  },
  {
   "cell_type": "code",
   "execution_count": 338,
   "metadata": {},
   "outputs": [],
   "source": [
    "Lxspectral(lmax,v,b,R,w,r) = cuhre((x, f) -> f[1] = 0.5*r*r*r*Lxintegrand(lmax,v,b,R,w,r,pi*x[1],2.0*pi*x[2]),2,1,atol=1e-12, rtol=1e-3,maxevals = maximumevaluations);\n",
    "Lyspectral(lmax,v,b,R,w,r) = cuhre((x, f) -> f[1] = 0.5*r*r*r*Lyintegrand(lmax,v,b,R,w,r,pi*x[1],2.0*pi*x[2]),2,1,atol=1e-12, rtol=1e-3,maxevals = maximumevaluations);\n",
    "Lzspectral(lmax,v,b,R,w,r) = cuhre((x, f) -> f[1] = 0.5*r*r*r*Lzintegrand(lmax,v,b,R,w,r,pi*x[1],2.0*pi*x[2]),2,1,atol=1e-12, rtol=1e-3,maxevals = maximumevaluations);"
   ]
  },
  {
   "cell_type": "markdown",
   "metadata": {},
   "source": [
    "### ELECTRIC"
   ]
  },
  {
   "cell_type": "code",
   "execution_count": 339,
   "metadata": {},
   "outputs": [],
   "source": [
    "LxspectralE(lmax,v,b,R,w,r) = cuhre((x, f) -> f[1] = 0.5*r*r*r*LxintegrandE(lmax,v,b,R,w,r,pi*x[1],2.0*pi*x[2]),2,1,atol=1e-12, rtol=1e-3,maxevals = maximumevaluations);\n",
    "LyspectralE(lmax,v,b,R,w,r) = cuhre((x, f) -> f[1] = 0.5*r*r*r*LyintegrandE(lmax,v,b,R,w,r,pi*x[1],2.0*pi*x[2]),2,1,atol=1e-12, rtol=1e-3,maxevals = maximumevaluations);\n",
    "LzspectralE(lmax,v,b,R,w,r) = cuhre((x, f) -> f[1] = 0.5*r*r*r*LzintegrandE(lmax,v,b,R,w,r,pi*x[1],2.0*pi*x[2]),2,1,atol=1e-12, rtol=1e-3,maxevals = maximumevaluations);"
   ]
  },
  {
   "cell_type": "markdown",
   "metadata": {},
   "source": [
    "### MAGNETIC"
   ]
  },
  {
   "cell_type": "code",
   "execution_count": 340,
   "metadata": {},
   "outputs": [],
   "source": [
    "LxspectralM(lmax,v,b,R,w,r) = cuhre((x, f) -> f[1] = 0.5*r*r*r*LxintegrandM(lmax,v,b,R,w,r,pi*x[1],2.0*pi*x[2]),2,1,atol=1e-12, rtol=1e-3,maxevals = maximumevaluations);\n",
    "LyspectralM(lmax,v,b,R,w,r) = cuhre((x, f) -> f[1] = 0.5*r*r*r*LyintegrandM(lmax,v,b,R,w,r,pi*x[1],2.0*pi*x[2]),2,1,atol=1e-12, rtol=1e-3,maxevals = maximumevaluations);\n",
    "LzspectralM(lmax,v,b,R,w,r) = cuhre((x, f) -> f[1] = 0.5*r*r*r*LzintegrandM(lmax,v,b,R,w,r,pi*x[1],2.0*pi*x[2]),2,1,atol=1e-12, rtol=1e-3,maxevals = maximumevaluations);"
   ]
  },
  {
   "cell_type": "markdown",
   "metadata": {},
   "source": [
    "# Definition of the spectral contributions $\\mathcal{P}_x(\\omega)$, $\\mathcal{P}_x(\\omega)$ and $\\mathcal{P}_x(\\omega)$"
   ]
  },
  {
   "cell_type": "markdown",
   "metadata": {},
   "source": [
    "### TOTALS (independent) (NOT as a sum of electric and magnetic contributions)"
   ]
  },
  {
   "cell_type": "code",
   "execution_count": 341,
   "metadata": {},
   "outputs": [],
   "source": [
    "Pxspectral(lmax,v,b,R,w,r) = cuhre((x, f) -> f[1] = 0.5*r*r*Pxintegrand(lmax,v,b,R,w,r,pi*x[1],2.0*pi*x[2]),2,1,atol=1e-12, rtol=1e-3,maxevals = maximumevaluations);\n",
    "Pyspectral(lmax,v,b,R,w,r) = cuhre((x, f) -> f[1] = 0.5*r*r*Pyintegrand(lmax,v,b,R,w,r,pi*x[1],2.0*pi*x[2]),2,1,atol=1e-12, rtol=1e-3,maxevals = maximumevaluations);\n",
    "Pzspectral(lmax,v,b,R,w,r) = cuhre((x, f) -> f[1] = 0.5*r*r*Pzintegrand(lmax,v,b,R,w,r,pi*x[1],2.0*pi*x[2]),2,1,atol=1e-12, rtol=1e-3,maxevals = maximumevaluations);"
   ]
  },
  {
   "cell_type": "markdown",
   "metadata": {},
   "source": [
    "### ELECTRIC"
   ]
  },
  {
   "cell_type": "code",
   "execution_count": 342,
   "metadata": {},
   "outputs": [],
   "source": [
    "PxspectralE(lmax,v,b,R,w,r) = cuhre((x, f) -> f[1] = 0.5*r*r*PxintegrandE(lmax,v,b,R,w,r,pi*x[1],2.0*pi*x[2]),2,1,atol=1e-12, rtol=1e-3,maxevals = maximumevaluations);\n",
    "PyspectralE(lmax,v,b,R,w,r) = cuhre((x, f) -> f[1] = 0.5*r*r*PyintegrandE(lmax,v,b,R,w,r,pi*x[1],2.0*pi*x[2]),2,1,atol=1e-12, rtol=1e-3,maxevals = maximumevaluations);\n",
    "PzspectralE(lmax,v,b,R,w,r) = cuhre((x, f) -> f[1] = 0.5*r*r*PzintegrandE(lmax,v,b,R,w,r,pi*x[1],2.0*pi*x[2]),2,1,atol=1e-12, rtol=1e-3,maxevals = maximumevaluations);"
   ]
  },
  {
   "cell_type": "markdown",
   "metadata": {},
   "source": [
    "### MAGNETIC"
   ]
  },
  {
   "cell_type": "code",
   "execution_count": 343,
   "metadata": {},
   "outputs": [],
   "source": [
    "PxspectralM(lmax,v,b,R,w,r) = cuhre((x, f) -> f[1] = 0.5*r*r*PxintegrandM(lmax,v,b,R,w,r,pi*x[1],2.0*pi*x[2]),2,1,atol=1e-12, rtol=1e-3,maxevals = maximumevaluations);\n",
    "PyspectralM(lmax,v,b,R,w,r) = cuhre((x, f) -> f[1] = 0.5*r*r*PyintegrandM(lmax,v,b,R,w,r,pi*x[1],2.0*pi*x[2]),2,1,atol=1e-12, rtol=1e-3,maxevals = maximumevaluations);\n",
    "PzspectralM(lmax,v,b,R,w,r) = cuhre((x, f) -> f[1] = 0.5*r*r*PzintegrandM(lmax,v,b,R,w,r,pi*x[1],2.0*pi*x[2]),2,1,atol=1e-12, rtol=1e-3,maxevals = maximumevaluations);"
   ]
  },
  {
   "cell_type": "markdown",
   "metadata": {},
   "source": [
    "# Definition of the total ANGULAR momentum transfer $\\Delta\\vec{\\mathbf{L}}=L_x\\hat{\\mathbf{e}}_x +L_y\\hat{\\mathbf{e}}_y +L_z\\hat{\\mathbf{e}}_z$\n",
    "\n",
    "OBS: $$L_x = 0$$\n",
    "$$L_y = \\Delta L_\\text{tot}$$ \n",
    "$$L_z=0.$$"
   ]
  },
  {
   "cell_type": "markdown",
   "metadata": {},
   "source": [
    "### TOTALS (independent) (NOT as a sum of electric and magnetic contributions)"
   ]
  },
  {
   "cell_type": "code",
   "execution_count": 344,
   "metadata": {},
   "outputs": [],
   "source": [
    "Lxcomplete(lmax,v,b,NPRadius,r) = cuhre((x, f) -> f[1] = ((0.5*r*r*r*1.0)/((1.0-x[3])*(1.0-x[3])))*Lxintegrand(lmax,v,b,NPRadius,(x[3])/(1.0-x[3]),r,pi*x[1],2.0*pi*x[2]),3,1,atol=1e-12, rtol=1e-3,maxevals = maximumevaluations);\n",
    "Lycomplete(lmax,v,b,NPRadius,r) = cuhre((x, f) -> f[1] = ((0.5*r*r*r*1.0)/((1.0-x[3])*(1.0-x[3])))*Lyintegrand(lmax,v,b,NPRadius,(x[3])/(1.0-x[3]),r,pi*x[1],2.0*pi*x[2]),3,1,atol=1e-12, rtol=1e-3,maxevals = maximumevaluations);\n",
    "Lzcomplete(lmax,v,b,NPRadius,r) = cuhre((x, f) -> f[1] = ((0.5*r*r*r*1.0)/((1.0-x[3])*(1.0-x[3])))*Lzintegrand(lmax,v,b,NPRadius,(x[3])/(1.0-x[3]),r,pi*x[1],2.0*pi*x[2]),3,1,atol=1e-12, rtol=1e-3,maxevals = maximumevaluations);"
   ]
  },
  {
   "cell_type": "markdown",
   "metadata": {},
   "source": [
    "### ELECTRIC"
   ]
  },
  {
   "cell_type": "code",
   "execution_count": 345,
   "metadata": {},
   "outputs": [],
   "source": [
    "LxcompleteE(lmax,v,b,NPRadius,r) = cuhre((x, f) -> f[1] = ((0.5*r*r*r*1.0)/((1.0-x[3])*(1.0-x[3])))*LxintegrandE(lmax,v,b,NPRadius,(x[3])/(1.0-x[3]),r,pi*x[1],2.0*pi*x[2]),3,1,atol=1e-14, rtol=1e-4,maxevals = maximumevaluations);\n",
    "LycompleteE(lmax,v,b,NPRadius,r) = cuhre((x, f) -> f[1] = ((0.5*r*r*r*1.0)/((1.0-x[3])*(1.0-x[3])))*LyintegrandE(lmax,v,b,NPRadius,(x[3])/(1.0-x[3]),r,pi*x[1],2.0*pi*x[2]),3,1,atol=1e-14, rtol=1e-4,maxevals = maximumevaluations);\n",
    "LzcompleteE(lmax,v,b,NPRadius,r) = cuhre((x, f) -> f[1] = ((0.5*r*r*r*1.0)/((1.0-x[3])*(1.0-x[3])))*LzintegrandE(lmax,v,b,NPRadius,(x[3])/(1.0-x[3]),r,pi*x[1],2.0*pi*x[2]),3,1,atol=1e-14, rtol=1e-4,maxevals = maximumevaluations);"
   ]
  },
  {
   "cell_type": "markdown",
   "metadata": {},
   "source": [
    "## electric for convergence test"
   ]
  },
  {
   "cell_type": "code",
   "execution_count": 346,
   "metadata": {},
   "outputs": [],
   "source": [
    "LycompleteEbis(lmax,v,b,NPRadius,r) = cuhre((x, f) -> f[1] = ((0.5*r*r*r*1.0)/((1.0-x[3])*(1.0-x[3])))*LyintegrandEbis(lmax,v,b,NPRadius,(x[3])/(1.0-x[3]),r,pi*x[1],2.0*pi*x[2]),3,1,atol=1e-14, rtol=1e-4,maxevals = maximumevaluations);\n",
    "\n",
    "LycompleteEtest(lmax,v,b,NPRadius,r) = cuhre((x, f) -> f[1] = ((0.5*r*r*r*1.0)/((1.0-x[3])*(1.0-x[3])))*LyintegrandEtest(lmax,lmax,v,b,NPRadius,(x[3])/(1.0-x[3]),r,pi*x[1],2.0*pi*x[2]),3,1,atol=1e-14, rtol=1e-4,maxevals = maximumevaluations);\n"
   ]
  },
  {
   "cell_type": "markdown",
   "metadata": {},
   "source": [
    "### MAGNETIC"
   ]
  },
  {
   "cell_type": "code",
   "execution_count": 347,
   "metadata": {},
   "outputs": [],
   "source": [
    "LxcompleteM(lmax,v,b,NPRadius,r) = cuhre((x, f) -> f[1] = ((0.5*r*r*r*1.0)/((1.0-x[3])*(1.0-x[3])))*LxintegrandM(lmax,v,b,NPRadius,(x[3])/(1.0-x[3]),r,pi*x[1],2.0*pi*x[2]),3,1,atol=1e-14, rtol=1e-4,maxevals = maximumevaluations);\n",
    "LycompleteM(lmax,v,b,NPRadius,r) = cuhre((x, f) -> f[1] = ((0.5*r*r*r*1.0)/((1.0-x[3])*(1.0-x[3])))*LyintegrandM(lmax,v,b,NPRadius,(x[3])/(1.0-x[3]),r,pi*x[1],2.0*pi*x[2]),3,1,atol=1e-14, rtol=1e-4,maxevals = maximumevaluations);\n",
    "LzcompleteM(lmax,v,b,NPRadius,r) = cuhre((x, f) -> f[1] = ((0.5*r*r*r*1.0)/((1.0-x[3])*(1.0-x[3])))*LzintegrandM(lmax,v,b,NPRadius,(x[3])/(1.0-x[3]),r,pi*x[1],2.0*pi*x[2]),3,1,atol=1e-14, rtol=1e-4,maxevals = maximumevaluations);"
   ]
  },
  {
   "cell_type": "markdown",
   "metadata": {},
   "source": [
    "## magnetic for convergence test"
   ]
  },
  {
   "cell_type": "code",
   "execution_count": 348,
   "metadata": {},
   "outputs": [],
   "source": [
    "LycompleteMbis(lmax,v,b,NPRadius,r) = cuhre((x, f) -> f[1] = ((0.5*r*r*r*1.0)/((1.0-x[3])*(1.0-x[3])))*LyintegrandMbis(lmax,v,b,NPRadius,(x[3])/(1.0-x[3]),r,pi*x[1],2.0*pi*x[2]),3,1,atol=1e-14, rtol=1e-4,maxevals = maximumevaluations);\n",
    "\n",
    "LycompleteMtest(lmax,v,b,NPRadius,r) = cuhre((x, f) -> f[1] = ((0.5*r*r*r*1.0)/((1.0-x[3])*(1.0-x[3])))*LyintegrandMtest(lmax,lmax,v,b,NPRadius,(x[3])/(1.0-x[3]),r,pi*x[1],2.0*pi*x[2]),3,1,atol=1e-14, rtol=1e-4,maxevals = maximumevaluations);\n"
   ]
  },
  {
   "cell_type": "markdown",
   "metadata": {},
   "source": [
    "# Definition of the total LINEAR momentum transfer $\\Delta\\vec{\\mathbf{P}}=P_x\\hat{\\mathbf{e}}_x +P_y\\hat{\\mathbf{e}}_y +P_z\\hat{\\mathbf{e}}_z$\n",
    "OBS: $$P_x = \\Delta P_{\\perp}$$\n",
    "$$P_y = 0$$ \n",
    "$$P_z=\\Delta P_{\\parallel}.$$"
   ]
  },
  {
   "cell_type": "markdown",
   "metadata": {},
   "source": [
    "### TOTALS (independent) (NOT as a sum of electric and magnetic contributions)"
   ]
  },
  {
   "cell_type": "code",
   "execution_count": 349,
   "metadata": {},
   "outputs": [],
   "source": [
    "Pxcomplete(lmax,v,b,NPRadius,r) = cuhre((x, f) -> f[1] = ((0.5*r*r*1.0)/((1.0-x[3])*(1.0-x[3])))*Pxintegrand(lmax,v,b,NPRadius,(x[3])/(1.0-x[3]),r,pi*x[1],2.0*pi*x[2]),3,1,atol=1e-12, rtol=1e-3,maxevals = maximumevaluations);\n",
    "Pycomplete(lmax,v,b,NPRadius,r) = cuhre((x, f) -> f[1] = ((0.5*r*r*1.0)/((1.0-x[3])*(1.0-x[3])))*Pyintegrand(lmax,v,b,NPRadius,(x[3])/(1.0-x[3]),r,pi*x[1],2.0*pi*x[2]),3,1,atol=1e-12, rtol=1e-3,maxevals = maximumevaluations);\n",
    "Pzcomplete(lmax,v,b,NPRadius,r) = cuhre((x, f) -> f[1] = ((0.5*r*r*1.0)/((1.0-x[3])*(1.0-x[3])))*Pzintegrand(lmax,v,b,NPRadius,(x[3])/(1.0-x[3]),r,pi*x[1],2.0*pi*x[2]),3,1,atol=1e-12, rtol=1e-3,maxevals = maximumevaluations);"
   ]
  },
  {
   "cell_type": "markdown",
   "metadata": {},
   "source": [
    "### ELECTRIC"
   ]
  },
  {
   "cell_type": "code",
   "execution_count": 350,
   "metadata": {},
   "outputs": [],
   "source": [
    "PxcompleteE(lmax,v,b,NPRadius,r) = cuhre((x, f) -> f[1] = ((0.5*r*r*1.0)/((1.0-x[3])*(1.0-x[3])))*PxintegrandE(lmax,v,b,NPRadius,(x[3])/(1.0-x[3]),r,pi*x[1],2.0*pi*x[2]),3,1,atol=1e-14, rtol=1e-4,maxevals = maximumevaluations);\n",
    "PycompleteE(lmax,v,b,NPRadius,r) = cuhre((x, f) -> f[1] = ((0.5*r*r*1.0)/((1.0-x[3])*(1.0-x[3])))*PyintegrandE(lmax,v,b,NPRadius,(x[3])/(1.0-x[3]),r,pi*x[1],2.0*pi*x[2]),3,1,atol=1e-14, rtol=1e-4,maxevals = maximumevaluations);\n",
    "PzcompleteE(lmax,v,b,NPRadius,r) = cuhre((x, f) -> f[1] = ((0.5*r*r*1.0)/((1.0-x[3])*(1.0-x[3])))*PzintegrandE(lmax,v,b,NPRadius,(x[3])/(1.0-x[3]),r,pi*x[1],2.0*pi*x[2]),3,1,atol=1e-14, rtol=1e-4,maxevals = maximumevaluations);"
   ]
  },
  {
   "cell_type": "markdown",
   "metadata": {},
   "source": [
    "### MAGNETIC"
   ]
  },
  {
   "cell_type": "code",
   "execution_count": 351,
   "metadata": {},
   "outputs": [],
   "source": [
    "PxcompleteM(lmax,v,b,NPRadius,r) = cuhre((x, f) -> f[1] = ((0.5*r*r*1.0)/((1.0-x[3])*(1.0-x[3])))*PxintegrandM(lmax,v,b,NPRadius,(x[3])/(1.0-x[3]),r,pi*x[1],2.0*pi*x[2]),3,1,atol=1e-14, rtol=1e-4,maxevals = maximumevaluations);\n",
    "PycompleteM(lmax,v,b,NPRadius,r) = cuhre((x, f) -> f[1] = ((0.5*r*r*1.0)/((1.0-x[3])*(1.0-x[3])))*PyintegrandM(lmax,v,b,NPRadius,(x[3])/(1.0-x[3]),r,pi*x[1],2.0*pi*x[2]),3,1,atol=1e-14, rtol=1e-4,maxevals = maximumevaluations);\n",
    "PzcompleteM(lmax,v,b,NPRadius,r) = cuhre((x, f) -> f[1] = ((0.5*r*r*1.0)/((1.0-x[3])*(1.0-x[3])))*PzintegrandM(lmax,v,b,NPRadius,(x[3])/(1.0-x[3]),r,pi*x[1],2.0*pi*x[2]),3,1,atol=1e-14, rtol=1e-4,maxevals = maximumevaluations);"
   ]
  },
  {
   "cell_type": "markdown",
   "metadata": {},
   "source": [
    "    check http://www.pkofod.com/2017/04/24/timing-in-julia/\n",
    "    \n",
    "    gctime = time julia spends freeing memory\n",
    "    \n",
    "    elarray2 = Lycomplete(1,0.5*c,20*nm,nm,1.1*nm)\n",
    "\n",
    "    Component:\n",
    "     1: -1.6196156990488162e-6 ± 1.4959353170820283e-9 (prob.: 0.0018956097984944632)\n",
    "    Integrand evaluations: 13589\n",
    "    Number of subregions:  54\n",
    "    Note: The desired accuracy was reached\n",
    "\n",
    "    elarray2[1][1]\n",
    "    -1.6196156990488162e-6\n",
    "\n",
    "    elarray2[2][1]\n",
    "    1.4959353170820283e-9\n",
    "\n",
    "    elarray2[3][1]\n",
    "    0.0018956097984944632\n",
    "\n",
    "    elarray2[4][1]\n",
    "    13589\n",
    "\n",
    "    elarray2[5][1] (fail type)\n",
    "    0\n",
    "\n",
    "    elarray2[6][1]\n",
    "    54\n",
    "    \n",
    "    \n",
    "        Lyarray, t, bytes, gctime, memallocs = @timed Lycomplete(1,0.5*c,20*nm,nm,1.1*nm)\n",
    "\n",
    "    (Component:\n",
    "     1: -1.6196156990488162e-6 ± 1.4959353170820283e-9 (prob.: 0.0018956097984944632)\n",
    "    Integrand evaluations: 13589\n",
    "    Number of subregions:  54\n",
    "    Note: The desired accuracy was reached, 11.945871031, 5065762368, 1.241923489, Base.GC_Diff(5065762368, 0, 0, 212708629, 0, 0, 1241923489, 221, 0))\n",
    "\n",
    "    Lyarray\n",
    "    Component:\n",
    "     1: -1.6196156990488162e-6 ± 1.4959353170820283e-9 (prob.: 0.0018956097984944632)\n",
    "    Integrand evaluations: 13589\n",
    "    Number of subregions:  54\n",
    "    Note: The desired accuracy was reached\n",
    "\n",
    "    t\n",
    "    11.945871031\n",
    "\n",
    "    bytes\n",
    "    5065762368\n",
    "\n",
    "    gctime\n",
    "    1.241923489\n",
    "\n",
    "    memallocs\n",
    "    Base.GC_Diff(5065762368, 0, 0, 212708629, 0, 0, 1241923489, 221, 0)"
   ]
  },
  {
   "cell_type": "markdown",
   "metadata": {},
   "source": [
    "    fail (type: Int32): an error flag:\n",
    "\n",
    "        fail = 0, the desired accuracy was reached\n",
    "        fail = -1, dimension out of range\n",
    "        fail > 0, the accuracy goal was not met within the allowed maximum number of integrand evaluations. While Vegas, Suave, and Cuhre simply return 1, Divonne can estimate the number of points by which maxevals needs to be increased to reach the desired accuracy and returns this value."
   ]
  },
  {
   "cell_type": "markdown",
   "metadata": {},
   "source": [
    "### To write on a file:"
   ]
  },
  {
   "cell_type": "code",
   "execution_count": 352,
   "metadata": {},
   "outputs": [],
   "source": [
    "using Printf # see https://www.geeksforgeeks.org/formatting-of-strings-in-julia/ for formats"
   ]
  },
  {
   "cell_type": "markdown",
   "metadata": {},
   "source": [
    "    %c: a single character (letter, number, special symbol)\n",
    "    %s: string (a combination of characters)\n",
    "    %d: integer (any whole number (not a fraction))\n",
    "    %f: float (numbers having floating decimal points)\n",
    "    %.nf: float restricted up to n decimal places\n",
    "    %e: scientific representation of a float number"
   ]
  },
  {
   "cell_type": "markdown",
   "metadata": {},
   "source": [
    "## To write on a file \n",
    "### from https://docs.julialang.org/en/v1/base/io-network/\n",
    "\n",
    "    open(filename::AbstractString, [mode::AbstractString]; lock = true) -> IOStream\n",
    "    Alternate syntax for open, where a string-based mode specifier is used instead of the five booleans. The values of mode correspond to those from fopen(3) or Perl open, and are equivalent to setting the following boolean groups:\n",
    "\n",
    "    Mode\tDescription\tKeywords\n",
    "    r\tread\tnone\n",
    "    w\twrite, create, truncate\twrite = true\n",
    "    a\twrite, create, append\tappend = true\n",
    "    r+\tread, write\tread = true, write = true\n",
    "    w+\tread, write, create, truncate\ttruncate = true, read = true\n",
    "    a+\tread, write, create, append\tappend = true, read = true\n",
    "    The lock keyword argument controls whether operations will be locked for safe multi-threaded access."
   ]
  },
  {
   "cell_type": "markdown",
   "metadata": {},
   "source": [
    "# Angular momentum transfer l-multipole contribution at a fixed speed convergence"
   ]
  },
  {
   "cell_type": "markdown",
   "metadata": {},
   "source": [
    "    outfile = \"Al-a1nm-v01c-b1p5nm-l-from-1-to-11-convergence.dat\"\n",
    "    f = open(outfile, \"a\")\n",
    "    @timed 1+1;\n",
    "    @printf(f,\"%s %s %s %s %s %s %s %s %s %s %s %s %s %s %s %s %s %s %s %s %s %s %s %s\\n\",\"lmax\", \"v/c\", \"b[nm]\", \"NPradius[nm]\", \"integration-radius\", \"LE[hbar]\",\"LEerror\", \"LEerrorprob\",\"LEtime[s]\",\"LEevals\",\"LEfail\",\"LEsubregions\",\"LEbytes\",\"LEgctime[s]\", \"LM[hbar]\",\"LMerror\", \"LMerrorprob\",\"LMtime[s]\",\"LMevals\",\"LMfail\",\"LMsubregions\",\"LMbytes\",\"LMgctime[s]\",\"LTOTAL[hbar]\")\n",
    "    close(f)\n",
    "    @printf(\"%s %s %s %s %s %s %s %s %s %s %s %s %s %s %s %s %s %s %s %s %s %s %s %s\\n\",\"lmax\", \"v/c\", \"b[nm]\", \"NPradius[nm]\", \"integration-radius\", \"LE[hbar]\",\"LEerror\", \"LEerrorprob\",\"LEtime[s]\",\"LEevals\",\"LEfail\",\"LEsubregions\",\"LEbytes\",\"LEgctime[s]\", \"LM[hbar]\",\"LMerror\", \"LMerrorprob\",\"LMtime[s]\",\"LMevals\",\"LMfail\",\"LMsubregions\",\"LMbytes\",\"LMgctime[s]\",\"LTOTAL[hbar]\")\n",
    "\n",
    "    ellmax = 11;\n",
    "    electronspeed = 0.1;\n",
    "    impactparameter = 1.5;\n",
    "    nanoparticleradius = 1.0;\n",
    "    radiusofintegration = 1.1;"
   ]
  },
  {
   "cell_type": "markdown",
   "metadata": {},
   "source": [
    "    ELyarray, Et, Ebytes, Egctime, Ememallocs = @timed LycompleteEtest(1,electronspeed*c,impactparameter*nm,nanoparticleradius*nm,radiusofintegration*nm);\n",
    "    MLyarray, Mt, Mbytes, Mgctime, Mmemallocs = @timed LycompleteMtest(1,electronspeed*c,impactparameter*nm,nanoparticleradius*nm,radiusofintegration*nm);\n",
    "\n",
    "    TMAelectric = ELyarray[1][1];\n",
    "    TMAmagnetic = MLyarray[1][1];\n",
    "    TMAtotal = TMAelectric + TMAmagnetic;\n",
    "\n",
    "    f = open(outfile, \"a\")\n",
    "    @printf(f,\"%d %.3f %.2f %.2f %.2f %.5e %.3e %.3e %.3f %d %d %d %d %.3f %.5e %.3e %.3e %.3f %d %d %d %d %.3f %.5e\\n\", 1, electronspeed, impactparameter,nanoparticleradius,radiusofintegration,TMAelectric,ELyarray[2][1],ELyarray[3][1],Et,ELyarray[4][1],ELyarray[5][1],ELyarray[6][1],Ebytes,Egctime,TMAmagnetic,MLyarray[2][1],MLyarray[3][1],Mt,MLyarray[4][1],MLyarray[5][1],MLyarray[6][1],Mbytes,Mgctime,TMAtotal)  \n",
    "    close(f)\n",
    "\n",
    "    @printf(\"%f %s\\n\", 1,\":\") \n",
    "    @printf(\"%d %.3f %.2f %.2f %.2f %.5e %.3e %.3e %.3f %d %d %d %d %.3f %.5e %.3e %.3e %.3f %d %d %d %d %.3f %.5e\\n\", 1, electronspeed, impactparameter,nanoparticleradius,radiusofintegration,TMAelectric,ELyarray[2][1],ELyarray[3][1],Et,ELyarray[4][1],ELyarray[5][1],ELyarray[6][1],Ebytes,Egctime,TMAmagnetic,MLyarray[2][1],MLyarray[3][1],Mt,MLyarray[4][1],MLyarray[5][1],MLyarray[6][1],Mbytes,Mgctime,TMAtotal)"
   ]
  },
  {
   "cell_type": "markdown",
   "metadata": {},
   "source": [
    "    for j in 2:ellmax\n",
    "        ELyarray, Et, Ebytes, Egctime, Ememallocs = @timed LycompleteEtest(j,electronspeed*c,impactparameter*nm,nanoparticleradius*nm,radiusofintegration*nm);\n",
    "        MLyarray, Mt, Mbytes, Mgctime, Mmemallocs = @timed LycompleteMtest(j,electronspeed*c,impactparameter*nm,nanoparticleradius*nm,radiusofintegration*nm);\n",
    "        TMAelectric = TMAelectric + ELyarray[1][1];\n",
    "        TMAmagnetic = TMAmagnetic + MLyarray[1][1];\n",
    "        TMAtotal = TMAtotal +  ELyarray[1][1] + MLyarray[1][1];\n",
    "        f = open(outfile, \"a\")\n",
    "        @printf(f,\"%d %.3f %.2f %.2f %.2f %.5e %.3e %.3e %.3f %d %d %d %d %.3f %.5e %.3e %.3e %.3f %d %d %d %d %.3f %.5e\\n\", j, electronspeed, impactparameter,nanoparticleradius,radiusofintegration,TMAelectric,ELyarray[2][1],ELyarray[3][1],Et,ELyarray[4][1],ELyarray[5][1],ELyarray[6][1],Ebytes,Egctime,TMAmagnetic,MLyarray[2][1],MLyarray[3][1],Mt,MLyarray[4][1],MLyarray[5][1],MLyarray[6][1],Mbytes,Mgctime,TMAtotal)\n",
    "        close(f)\n",
    "        @printf(\"%f %s\\n\", j,\":\")\n",
    "        @printf(\"%d %.3f %.2f %.2f %.2f %.5e %.3e %.3e %.3f %d %d %d %d %.3f %.5e %.3e %.3e %.3f %d %d %d %d %.3f %.5e\\n\", j, electronspeed, impactparameter,nanoparticleradius,radiusofintegration,TMAelectric,ELyarray[2][1],ELyarray[3][1],Et,ELyarray[4][1],ELyarray[5][1],ELyarray[6][1],Ebytes,Egctime,TMAmagnetic,MLyarray[2][1],MLyarray[3][1],Mt,MLyarray[4][1],MLyarray[5][1],MLyarray[6][1],Mbytes,Mgctime,TMAtotal)\n",
    "    end"
   ]
  },
  {
   "cell_type": "code",
   "execution_count": null,
   "metadata": {},
   "outputs": [],
   "source": []
  }
 ],
 "metadata": {
  "kernelspec": {
   "display_name": "Julia 1.0.5",
   "language": "julia",
   "name": "julia-1.0"
  },
  "language_info": {
   "file_extension": ".jl",
   "mimetype": "application/julia",
   "name": "julia",
   "version": "1.0.5"
  }
 },
 "nbformat": 4,
 "nbformat_minor": 4
}
